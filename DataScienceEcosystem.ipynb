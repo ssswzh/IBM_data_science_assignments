{
 "cells": [
  {
   "cell_type": "markdown",
   "id": "ec4a8a81-1812-4f2f-bdf9-0295a4a4ec60",
   "metadata": {},
   "source": [
    "**Exercise 2: Create markdown cell with title of the notebook**"
   ]
  },
  {
   "cell_type": "markdown",
   "id": "4c54938d-f8be-44dd-8733-d772f96889c8",
   "metadata": {},
   "source": [
    "# Data Science Tools and Ecosystem"
   ]
  },
  {
   "cell_type": "markdown",
   "id": "0b072d6a-4a42-4a63-add4-2135d356e3a9",
   "metadata": {},
   "source": [
    "**Exercise 3 - Create a markdown cell for an introduction**"
   ]
  },
  {
   "cell_type": "markdown",
   "id": "347687f8-f7cf-4550-bb2a-ebc42b4330f0",
   "metadata": {},
   "source": [
    "In this notebook, Data Science Tools and Ecosystem are summarized."
   ]
  },
  {
   "cell_type": "markdown",
   "id": "bc871773-8e98-49fc-b613-223ab911c29a",
   "metadata": {},
   "source": [
    "**Exercise 10 - Insert a markdown cell to list Objectives**"
   ]
  },
  {
   "attachments": {},
   "cell_type": "markdown",
   "id": "ee8b8413-206b-4385-bd36-78c4796516e6",
   "metadata": {},
   "source": [
    "**Objectives:**\n",
    "- List the scientific computing libraries in Python\n",
    "- List the visualization libraries in Python\n",
    "- List the high-level machine learning and deep learning libraries\n",
    "- List R capabilities\n",
    "- List the R libraries for data science"
   ]
  },
  {
   "cell_type": "markdown",
   "id": "954d1908-a0f1-487b-accf-1f69b326d2a2",
   "metadata": {},
   "source": [
    "**Exercise 4 - Create a markdown cell to list data science languages**"
   ]
  },
  {
   "cell_type": "markdown",
   "id": "e27123f1-c7cc-454b-8f43-dcd0e9772b76",
   "metadata": {},
   "source": [
    "Some of the popular languages that Data Scientists use are:\n",
    "1. Python\n",
    "2. R\n",
    "3. SQL\n",
    "4. Java\n",
    "5. Julia"
   ]
  },
  {
   "cell_type": "markdown",
   "id": "796873d9-b61b-4815-8213-b3f77a5059d4",
   "metadata": {},
   "source": [
    "**Exercise 5 - Create a markdown cell to list data science libraries**"
   ]
  },
  {
   "cell_type": "markdown",
   "id": "1a919fb1-6a58-4f96-a31e-e3a73594bf7f",
   "metadata": {},
   "source": [
    "Some of the commonly used libraries used by Data Scientists include:\n",
    "1. Pandas\n",
    "2. NumPy\n",
    "3. Matplotlib\n",
    "4. TensorFlow\n",
    "5. sci-kit learn"
   ]
  },
  {
   "cell_type": "markdown",
   "id": "86de165e-5984-40b9-bac3-a78b0c1813e4",
   "metadata": {},
   "source": [
    "**Exercise 6 - Create a markdown cell with a table of Data Science tools**"
   ]
  },
  {
   "cell_type": "markdown",
   "id": "973a5e31-39f9-4a90-aff6-6c1e0c477a47",
   "metadata": {},
   "source": [
    "|Data Science Tools|\n",
    "|------------------|\n",
    "|Jupyter|\n",
    "|RStudio|\n",
    "|VS code|"
   ]
  },
  {
   "cell_type": "markdown",
   "id": "17c972e7-69b3-4115-8ee4-a6ee501c0bed",
   "metadata": {},
   "source": [
    "**Exercise 7 - Create a markdown cell introducing arithmetic expression examples**"
   ]
  },
  {
   "cell_type": "markdown",
   "id": "7da377dd-5764-4e48-b3ea-d6c7e3d0883b",
   "metadata": {},
   "source": [
    "### Below are a few examples of evaluating arithmetic expressions in Python"
   ]
  },
  {
   "cell_type": "markdown",
   "id": "9b088493-da10-4a81-b913-d59e9ee1c83d",
   "metadata": {},
   "source": [
    "**Exercise 8 - Create a code cell to multiply and add numbers**"
   ]
  },
  {
   "cell_type": "code",
   "execution_count": 14,
   "id": "04ba2c5e-9be0-4674-a589-9e7c327dcb84",
   "metadata": {},
   "outputs": [
    {
     "data": {
      "text/plain": [
       "17"
      ]
     },
     "execution_count": 14,
     "metadata": {},
     "output_type": "execute_result"
    }
   ],
   "source": [
    "# This a simple arithmetic expression to mutiply then add integers\n",
    "(3*4)+5"
   ]
  },
  {
   "cell_type": "markdown",
   "id": "6c6a6608-dd22-41c7-adf7-c6f5127e16c0",
   "metadata": {},
   "source": [
    "**Exercise 9 - Create a code cell to convert minutes to hours**"
   ]
  },
  {
   "cell_type": "code",
   "execution_count": 17,
   "id": "15a3e1e0-4caf-4e38-bc66-392c952feed8",
   "metadata": {},
   "outputs": [
    {
     "data": {
      "text/plain": [
       "3.3333333333333335"
      ]
     },
     "execution_count": 17,
     "metadata": {},
     "output_type": "execute_result"
    }
   ],
   "source": [
    "# This will convert 200 minutes to hours by diving by 60\n",
    "200/60"
   ]
  },
  {
   "cell_type": "markdown",
   "id": "d21bdce1-e870-40df-85c9-06992278e86e",
   "metadata": {},
   "source": [
    "**Exercise 11 - Create a markdown cell to indicate the Author's name**"
   ]
  },
  {
   "cell_type": "markdown",
   "id": "04d75507-fd1a-43cb-9c2b-019a5d6e093b",
   "metadata": {},
   "source": [
    "## Author\n",
    "Siwen Zhang"
   ]
  },
  {
   "cell_type": "code",
   "execution_count": null,
   "id": "ab0a393b-775b-4daf-b4da-fbf50295ed1e",
   "metadata": {},
   "outputs": [],
   "source": []
  }
 ],
 "metadata": {
  "kernelspec": {
   "display_name": "Python 3 (ipykernel)",
   "language": "python",
   "name": "python3"
  },
  "language_info": {
   "codemirror_mode": {
    "name": "ipython",
    "version": 3
   },
   "file_extension": ".py",
   "mimetype": "text/x-python",
   "name": "python",
   "nbconvert_exporter": "python",
   "pygments_lexer": "ipython3",
   "version": "3.12.7"
  }
 },
 "nbformat": 4,
 "nbformat_minor": 5
}
